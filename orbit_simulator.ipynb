{
  "nbformat": 4,
  "nbformat_minor": 0,
  "metadata": {
    "colab": {
      "provenance": [],
      "authorship_tag": "ABX9TyNRFUFcdGOeySPaqE6x5l2U"
    },
    "kernelspec": {
      "name": "python3",
      "display_name": "Python 3"
    },
    "language_info": {
      "name": "python"
    }
  },
  "cells": [
    {
      "cell_type": "code",
      "execution_count": 3,
      "metadata": {
        "colab": {
          "base_uri": "https://localhost:8080/"
        },
        "id": "ZhBK6-5gVVOS",
        "outputId": "b1d0fae7-1e2b-4554-e6e0-7caa4181b185"
      },
      "outputs": [
        {
          "output_type": "stream",
          "name": "stdout",
          "text": [
            "Enter orbit radius in (km): 2720\n",
            "Orbital Period: 23.529853 minutes\n"
          ]
        }
      ],
      "source": [
        "# orbit_simulator.py\n",
        "import math\n",
        "\n",
        "# Earth gravity constant\n",
        "G = 6.67430e-11\n",
        "M = 5.972e24 # Earth mass (kg)\n",
        "\n",
        "def orbit_period(radius):\n",
        "    return 2 * math.pi * math.sqrt(radius**3 / (G * M))\n",
        "\n",
        "def main():\n",
        "    radius_km = float(input(\"Enter orbit radius in (km): \"))\n",
        "    radius_m = radius_km * 1000\n",
        "    period = orbit_period(radius_m)\n",
        "    print(f\"Orbital Period: {period/60:2f} minutes\")\n",
        "if __name__ == \"__main__\":\n",
        "    main()"
      ]
    }
  ]
}